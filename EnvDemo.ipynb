{
 "cells": [
  {
   "cell_type": "markdown",
   "id": "fantastic-davis",
   "metadata": {},
   "source": [
    "# Importing dependencies"
   ]
  },
  {
   "cell_type": "markdown",
   "id": "existing-insight",
   "metadata": {},
   "source": [
    "For this assignment, we were required to create an enviroment containing a list of dependencies. Asides from Jupyter notebook, pyhthon and anaconda, the listed dependencies have been imported into this notebook. \n",
    "\n",
    "**Please note:** If any of the dependencies are yet to be added to the environment, then running this notebook will cause an error. "
   ]
  },
  {
   "cell_type": "code",
   "execution_count": 1,
   "id": "dietary-street",
   "metadata": {},
   "outputs": [],
   "source": [
    "import pandas as pd"
   ]
  },
  {
   "cell_type": "code",
   "execution_count": 2,
   "id": "joined-smoke",
   "metadata": {},
   "outputs": [],
   "source": [
    "import tensorflow as tf"
   ]
  },
  {
   "cell_type": "code",
   "execution_count": 3,
   "id": "expired-daughter",
   "metadata": {},
   "outputs": [],
   "source": [
    "import keras"
   ]
  },
  {
   "cell_type": "code",
   "execution_count": 4,
   "id": "nearby-match",
   "metadata": {},
   "outputs": [],
   "source": [
    "import numpy as np"
   ]
  },
  {
   "cell_type": "code",
   "execution_count": 5,
   "id": "emotional-faculty",
   "metadata": {},
   "outputs": [],
   "source": [
    "import scipy as scp"
   ]
  },
  {
   "cell_type": "code",
   "execution_count": 6,
   "id": "advanced-novelty",
   "metadata": {},
   "outputs": [],
   "source": [
    "import matplotlib as mpl"
   ]
  },
  {
   "cell_type": "code",
   "execution_count": 7,
   "id": "running-zimbabwe",
   "metadata": {},
   "outputs": [],
   "source": [
    "import sklearn "
   ]
  },
  {
   "cell_type": "markdown",
   "id": "emotional-generic",
   "metadata": {},
   "source": [
    "# Pandas Demo"
   ]
  },
  {
   "cell_type": "markdown",
   "id": "quarterly-authority",
   "metadata": {},
   "source": [
    "Pandas is an open source, BSD-licensed library providing high-performance, easy-to-use data structures and data analysis tools for the Python programming language. ([pandas documentation — pandas 1.2.1 documentation, 2021](https://pandas.pydata.org/docs/))"
   ]
  },
  {
   "cell_type": "code",
   "execution_count": 8,
   "id": "elder-stock",
   "metadata": {},
   "outputs": [],
   "source": [
    "import pandas"
   ]
  },
  {
   "cell_type": "markdown",
   "id": "capital-challenge",
   "metadata": {},
   "source": [
    "Below, we are creating a DataFrame object by reading an existing .csv file with the pandas Library. With this dataframe, we can then perform different sort of operations on our data programatically. "
   ]
  },
  {
   "cell_type": "code",
   "execution_count": 9,
   "id": "annual-turtle",
   "metadata": {},
   "outputs": [
    {
     "data": {
      "text/html": [
       "<div>\n",
       "<style scoped>\n",
       "    .dataframe tbody tr th:only-of-type {\n",
       "        vertical-align: middle;\n",
       "    }\n",
       "\n",
       "    .dataframe tbody tr th {\n",
       "        vertical-align: top;\n",
       "    }\n",
       "\n",
       "    .dataframe thead th {\n",
       "        text-align: right;\n",
       "    }\n",
       "</style>\n",
       "<table border=\"1\" class=\"dataframe\">\n",
       "  <thead>\n",
       "    <tr style=\"text-align: right;\">\n",
       "      <th></th>\n",
       "      <th>uid</th>\n",
       "      <th>datetime</th>\n",
       "      <th>latitude</th>\n",
       "      <th>longitude</th>\n",
       "    </tr>\n",
       "  </thead>\n",
       "  <tbody>\n",
       "    <tr>\n",
       "      <th>0</th>\n",
       "      <td>1</td>\n",
       "      <td>2018-01-01 00:25:46</td>\n",
       "      <td>-1.188850</td>\n",
       "      <td>36.931382</td>\n",
       "    </tr>\n",
       "    <tr>\n",
       "      <th>1</th>\n",
       "      <td>2</td>\n",
       "      <td>2018-01-01 02:02:39</td>\n",
       "      <td>-0.662939</td>\n",
       "      <td>37.208730</td>\n",
       "    </tr>\n",
       "    <tr>\n",
       "      <th>2</th>\n",
       "      <td>3</td>\n",
       "      <td>2018-01-01 02:31:49</td>\n",
       "      <td>-0.662939</td>\n",
       "      <td>37.208730</td>\n",
       "    </tr>\n",
       "    <tr>\n",
       "      <th>3</th>\n",
       "      <td>4</td>\n",
       "      <td>2018-01-01 03:04:01</td>\n",
       "      <td>-1.288087</td>\n",
       "      <td>36.826583</td>\n",
       "    </tr>\n",
       "    <tr>\n",
       "      <th>4</th>\n",
       "      <td>5</td>\n",
       "      <td>2018-01-01 03:58:49</td>\n",
       "      <td>-1.188850</td>\n",
       "      <td>36.931382</td>\n",
       "    </tr>\n",
       "  </tbody>\n",
       "</table>\n",
       "</div>"
      ],
      "text/plain": [
       "   uid             datetime  latitude  longitude\n",
       "0    1  2018-01-01 00:25:46 -1.188850  36.931382\n",
       "1    2  2018-01-01 02:02:39 -0.662939  37.208730\n",
       "2    3  2018-01-01 02:31:49 -0.662939  37.208730\n",
       "3    4  2018-01-01 03:04:01 -1.288087  36.826583\n",
       "4    5  2018-01-01 03:58:49 -1.188850  36.931382"
      ]
     },
     "execution_count": 9,
     "metadata": {},
     "output_type": "execute_result"
    }
   ],
   "source": [
    "## Read data using Pandas\n",
    "pandas_dataframe = pandas.read_csv(\"DemoData.csv\")\n",
    "pandas_dataframe.head()"
   ]
  },
  {
   "cell_type": "markdown",
   "id": "suffering-color",
   "metadata": {},
   "source": [
    "Below are a series of different operations that we can perform on our pandas dataframe. "
   ]
  },
  {
   "cell_type": "code",
   "execution_count": 10,
   "id": "dirty-florence",
   "metadata": {},
   "outputs": [
    {
     "data": {
      "text/html": [
       "<div>\n",
       "<style scoped>\n",
       "    .dataframe tbody tr th:only-of-type {\n",
       "        vertical-align: middle;\n",
       "    }\n",
       "\n",
       "    .dataframe tbody tr th {\n",
       "        vertical-align: top;\n",
       "    }\n",
       "\n",
       "    .dataframe thead th {\n",
       "        text-align: right;\n",
       "    }\n",
       "</style>\n",
       "<table border=\"1\" class=\"dataframe\">\n",
       "  <thead>\n",
       "    <tr style=\"text-align: right;\">\n",
       "      <th></th>\n",
       "      <th>0</th>\n",
       "      <th>1</th>\n",
       "      <th>2</th>\n",
       "      <th>3</th>\n",
       "      <th>4</th>\n",
       "      <th>5</th>\n",
       "      <th>6</th>\n",
       "      <th>7</th>\n",
       "      <th>8</th>\n",
       "      <th>9</th>\n",
       "      <th>...</th>\n",
       "      <th>6308</th>\n",
       "      <th>6309</th>\n",
       "      <th>6310</th>\n",
       "      <th>6311</th>\n",
       "      <th>6312</th>\n",
       "      <th>6313</th>\n",
       "      <th>6314</th>\n",
       "      <th>6315</th>\n",
       "      <th>6316</th>\n",
       "      <th>6317</th>\n",
       "    </tr>\n",
       "  </thead>\n",
       "  <tbody>\n",
       "    <tr>\n",
       "      <th>uid</th>\n",
       "      <td>1</td>\n",
       "      <td>2</td>\n",
       "      <td>3</td>\n",
       "      <td>4</td>\n",
       "      <td>5</td>\n",
       "      <td>6</td>\n",
       "      <td>7</td>\n",
       "      <td>8</td>\n",
       "      <td>9</td>\n",
       "      <td>10</td>\n",
       "      <td>...</td>\n",
       "      <td>6309</td>\n",
       "      <td>6310</td>\n",
       "      <td>6311</td>\n",
       "      <td>6312</td>\n",
       "      <td>6313</td>\n",
       "      <td>6314</td>\n",
       "      <td>6315</td>\n",
       "      <td>6316</td>\n",
       "      <td>6317</td>\n",
       "      <td>6318</td>\n",
       "    </tr>\n",
       "    <tr>\n",
       "      <th>datetime</th>\n",
       "      <td>2018-01-01 00:25:46</td>\n",
       "      <td>2018-01-01 02:02:39</td>\n",
       "      <td>2018-01-01 02:31:49</td>\n",
       "      <td>2018-01-01 03:04:01</td>\n",
       "      <td>2018-01-01 03:58:49</td>\n",
       "      <td>2018-01-01 04:04:09</td>\n",
       "      <td>2018-01-01 05:31:17</td>\n",
       "      <td>2018-01-01 07:57:56</td>\n",
       "      <td>2018-01-01 09:57:27</td>\n",
       "      <td>2018-01-01 10:48:59</td>\n",
       "      <td>...</td>\n",
       "      <td>2019-06-29 12:15:44</td>\n",
       "      <td>2019-06-29 12:16:14</td>\n",
       "      <td>2019-06-29 15:18:14</td>\n",
       "      <td>2019-06-29 15:18:44</td>\n",
       "      <td>2019-06-29 17:40:14</td>\n",
       "      <td>2019-06-29 18:52:44</td>\n",
       "      <td>2019-06-30 09:57:44</td>\n",
       "      <td>2019-06-30 12:02:14</td>\n",
       "      <td>2019-06-30 16:59:14</td>\n",
       "      <td>2019-06-30 20:06:14</td>\n",
       "    </tr>\n",
       "    <tr>\n",
       "      <th>latitude</th>\n",
       "      <td>-1.18885</td>\n",
       "      <td>-0.662939</td>\n",
       "      <td>-0.662939</td>\n",
       "      <td>-1.28809</td>\n",
       "      <td>-1.18885</td>\n",
       "      <td>-0.662939</td>\n",
       "      <td>-1.16523</td>\n",
       "      <td>-1.3013</td>\n",
       "      <td>-1.13464</td>\n",
       "      <td>-1.11721</td>\n",
       "      <td>...</td>\n",
       "      <td>-1.3254</td>\n",
       "      <td>-1.3254</td>\n",
       "      <td>-1.47582</td>\n",
       "      <td>-1.47582</td>\n",
       "      <td>-1.24804</td>\n",
       "      <td>-1.26227</td>\n",
       "      <td>-1.27947</td>\n",
       "      <td>-1.32211</td>\n",
       "      <td>-1.27859</td>\n",
       "      <td>-1.2115</td>\n",
       "    </tr>\n",
       "    <tr>\n",
       "      <th>longitude</th>\n",
       "      <td>36.9314</td>\n",
       "      <td>37.2087</td>\n",
       "      <td>37.2087</td>\n",
       "      <td>36.8266</td>\n",
       "      <td>36.9314</td>\n",
       "      <td>37.2087</td>\n",
       "      <td>36.96</td>\n",
       "      <td>36.8209</td>\n",
       "      <td>36.8482</td>\n",
       "      <td>37.0083</td>\n",
       "      <td>...</td>\n",
       "      <td>36.8481</td>\n",
       "      <td>36.8481</td>\n",
       "      <td>36.957</td>\n",
       "      <td>36.957</td>\n",
       "      <td>36.8716</td>\n",
       "      <td>36.7265</td>\n",
       "      <td>36.7904</td>\n",
       "      <td>36.8252</td>\n",
       "      <td>36.8165</td>\n",
       "      <td>36.9076</td>\n",
       "    </tr>\n",
       "  </tbody>\n",
       "</table>\n",
       "<p>4 rows × 6318 columns</p>\n",
       "</div>"
      ],
      "text/plain": [
       "                          0                    1                    2     \\\n",
       "uid                          1                    2                    3   \n",
       "datetime   2018-01-01 00:25:46  2018-01-01 02:02:39  2018-01-01 02:31:49   \n",
       "latitude              -1.18885            -0.662939            -0.662939   \n",
       "longitude              36.9314              37.2087              37.2087   \n",
       "\n",
       "                          3                    4                    5     \\\n",
       "uid                          4                    5                    6   \n",
       "datetime   2018-01-01 03:04:01  2018-01-01 03:58:49  2018-01-01 04:04:09   \n",
       "latitude              -1.28809             -1.18885            -0.662939   \n",
       "longitude              36.8266              36.9314              37.2087   \n",
       "\n",
       "                          6                    7                    8     \\\n",
       "uid                          7                    8                    9   \n",
       "datetime   2018-01-01 05:31:17  2018-01-01 07:57:56  2018-01-01 09:57:27   \n",
       "latitude              -1.16523              -1.3013             -1.13464   \n",
       "longitude                36.96              36.8209              36.8482   \n",
       "\n",
       "                          9     ...                 6308                 6309  \\\n",
       "uid                         10  ...                 6309                 6310   \n",
       "datetime   2018-01-01 10:48:59  ...  2019-06-29 12:15:44  2019-06-29 12:16:14   \n",
       "latitude              -1.11721  ...              -1.3254              -1.3254   \n",
       "longitude              37.0083  ...              36.8481              36.8481   \n",
       "\n",
       "                          6310                 6311                 6312  \\\n",
       "uid                       6311                 6312                 6313   \n",
       "datetime   2019-06-29 15:18:14  2019-06-29 15:18:44  2019-06-29 17:40:14   \n",
       "latitude              -1.47582             -1.47582             -1.24804   \n",
       "longitude               36.957               36.957              36.8716   \n",
       "\n",
       "                          6313                 6314                 6315  \\\n",
       "uid                       6314                 6315                 6316   \n",
       "datetime   2019-06-29 18:52:44  2019-06-30 09:57:44  2019-06-30 12:02:14   \n",
       "latitude              -1.26227             -1.27947             -1.32211   \n",
       "longitude              36.7265              36.7904              36.8252   \n",
       "\n",
       "                          6316                 6317  \n",
       "uid                       6317                 6318  \n",
       "datetime   2019-06-30 16:59:14  2019-06-30 20:06:14  \n",
       "latitude              -1.27859              -1.2115  \n",
       "longitude              36.8165              36.9076  \n",
       "\n",
       "[4 rows x 6318 columns]"
      ]
     },
     "execution_count": 10,
     "metadata": {},
     "output_type": "execute_result"
    }
   ],
   "source": [
    "## Transpose the dataframe\n",
    "pandas_dataframe.T"
   ]
  },
  {
   "cell_type": "code",
   "execution_count": 11,
   "id": "liked-professional",
   "metadata": {},
   "outputs": [
    {
     "data": {
      "text/html": [
       "<div>\n",
       "<style scoped>\n",
       "    .dataframe tbody tr th:only-of-type {\n",
       "        vertical-align: middle;\n",
       "    }\n",
       "\n",
       "    .dataframe tbody tr th {\n",
       "        vertical-align: top;\n",
       "    }\n",
       "\n",
       "    .dataframe thead th {\n",
       "        text-align: right;\n",
       "    }\n",
       "</style>\n",
       "<table border=\"1\" class=\"dataframe\">\n",
       "  <thead>\n",
       "    <tr style=\"text-align: right;\">\n",
       "      <th></th>\n",
       "      <th>uid</th>\n",
       "      <th>latitude</th>\n",
       "      <th>longitude</th>\n",
       "    </tr>\n",
       "  </thead>\n",
       "  <tbody>\n",
       "    <tr>\n",
       "      <th>count</th>\n",
       "      <td>6318.000000</td>\n",
       "      <td>6318.000000</td>\n",
       "      <td>6318.000000</td>\n",
       "    </tr>\n",
       "    <tr>\n",
       "      <th>mean</th>\n",
       "      <td>3159.500000</td>\n",
       "      <td>-1.270338</td>\n",
       "      <td>36.855459</td>\n",
       "    </tr>\n",
       "    <tr>\n",
       "      <th>std</th>\n",
       "      <td>1823.993832</td>\n",
       "      <td>0.125157</td>\n",
       "      <td>0.112866</td>\n",
       "    </tr>\n",
       "    <tr>\n",
       "      <th>min</th>\n",
       "      <td>1.000000</td>\n",
       "      <td>-3.050000</td>\n",
       "      <td>36.332202</td>\n",
       "    </tr>\n",
       "    <tr>\n",
       "      <th>25%</th>\n",
       "      <td>1580.250000</td>\n",
       "      <td>-1.316585</td>\n",
       "      <td>36.802048</td>\n",
       "    </tr>\n",
       "    <tr>\n",
       "      <th>50%</th>\n",
       "      <td>3159.500000</td>\n",
       "      <td>-1.271709</td>\n",
       "      <td>36.844591</td>\n",
       "    </tr>\n",
       "    <tr>\n",
       "      <th>75%</th>\n",
       "      <td>4738.750000</td>\n",
       "      <td>-1.233746</td>\n",
       "      <td>36.895642</td>\n",
       "    </tr>\n",
       "    <tr>\n",
       "      <th>max</th>\n",
       "      <td>6318.000000</td>\n",
       "      <td>-0.565402</td>\n",
       "      <td>37.879490</td>\n",
       "    </tr>\n",
       "  </tbody>\n",
       "</table>\n",
       "</div>"
      ],
      "text/plain": [
       "               uid     latitude    longitude\n",
       "count  6318.000000  6318.000000  6318.000000\n",
       "mean   3159.500000    -1.270338    36.855459\n",
       "std    1823.993832     0.125157     0.112866\n",
       "min       1.000000    -3.050000    36.332202\n",
       "25%    1580.250000    -1.316585    36.802048\n",
       "50%    3159.500000    -1.271709    36.844591\n",
       "75%    4738.750000    -1.233746    36.895642\n",
       "max    6318.000000    -0.565402    37.879490"
      ]
     },
     "execution_count": 11,
     "metadata": {},
     "output_type": "execute_result"
    }
   ],
   "source": [
    "## Show data summary\n",
    "pandas_dataframe.describe()"
   ]
  },
  {
   "cell_type": "markdown",
   "id": "coordinated-token",
   "metadata": {},
   "source": [
    "# Numpy Demo"
   ]
  },
  {
   "cell_type": "markdown",
   "id": "marine-divorce",
   "metadata": {},
   "source": [
    "NumPy is a Python library used for working with arrays.\n",
    "\n",
    "It also has functions for working in domain of linear algebra, fourier transform, and matrices.\n",
    "\n",
    "NumPy was created in 2005 by Travis Oliphant. It is an open source project and you can use it freely.\n",
    "\n",
    "NumPy stands for Numerical Python. [(Introduction to NumPy, 2021)](https://www.w3schools.com/python/numpy_intro.asp)."
   ]
  },
  {
   "cell_type": "code",
   "execution_count": 12,
   "id": "unlikely-boxing",
   "metadata": {},
   "outputs": [
    {
     "data": {
      "text/plain": [
       "array([[ 1,  2,  3,  4],\n",
       "       [ 5,  6,  7,  8],\n",
       "       [ 9, 10, 11, 12]])"
      ]
     },
     "execution_count": 12,
     "metadata": {},
     "output_type": "execute_result"
    }
   ],
   "source": [
    "import numpy as np\n",
    "\n",
    "# Create the following rank 2 array with shape (3, 4)\n",
    "# [[ 1  2  3  4]\n",
    "#  [ 5  6  7  8]\n",
    "#  [ 9 10 11 12]]\n",
    "np.array([[1,2,3,4], [5,6,7,8], [9,10,11,12]])"
   ]
  },
  {
   "cell_type": "code",
   "execution_count": 13,
   "id": "living-optimum",
   "metadata": {},
   "outputs": [
    {
     "name": "stdout",
     "output_type": "stream",
     "text": [
      "[[ 1  2  3  4]\n",
      " [ 5  6  7  8]\n",
      " [ 9 10 11 12]]\n",
      "[[ 2  4  6  8]\n",
      " [10 12 14 16]\n",
      " [18 20 22 24]]\n"
     ]
    }
   ],
   "source": [
    "## Perform arithmetic operations like multiplication\n",
    "np_arr = np.array([[1,2,3,4], [5,6,7,8], [9,10,11,12]])\n",
    "print(np_arr)\n",
    "print(np_arr * 2)"
   ]
  },
  {
   "cell_type": "markdown",
   "id": "electoral-shoulder",
   "metadata": {},
   "source": [
    "# Matplotlib Demo"
   ]
  },
  {
   "cell_type": "markdown",
   "id": "independent-relief",
   "metadata": {},
   "source": [
    "Matplotlib is a comprehensive library for creating static, animated, and interactive visualizations in Python."
   ]
  },
  {
   "cell_type": "code",
   "execution_count": 22,
   "id": "current-village",
   "metadata": {},
   "outputs": [
    {
     "data": {
      "image/png": "[encoded data removed]",
      "text/plain": [
       "<Figure size 432x288 with 1 Axes>"
      ]
     },
     "metadata": {
      "needs_background": "light"
     },
     "output_type": "display_data"
    }
   ],
   "source": [
    "import matplotlib.pyplot as plt\n",
    "plt.plot([1, 2, 3, 4])\n",
    "plt.ylabel('some numbers')\n",
    "plt.show()"
   ]
  },
  {
   "cell_type": "markdown",
   "id": "impressive-cabinet",
   "metadata": {},
   "source": [
    "# SkLearn, TensorFlow, SciPy, Keras"
   ]
  },
  {
   "cell_type": "markdown",
   "id": "covered-clause",
   "metadata": {},
   "source": [
    "These are all deep learning API based in pyhton."
   ]
  },
  {
   "cell_type": "code",
   "execution_count": null,
   "id": "numerical-sapphire",
   "metadata": {},
   "outputs": [],
   "source": []
  }
 ],
 "metadata": {
  "kernelspec": {
   "display_name": "Python 3",
   "language": "python",
   "name": "python3"
  },
  "language_info": {
   "codemirror_mode": {
    "name": "ipython",
    "version": 3
   },
   "file_extension": ".py",
   "mimetype": "text/x-python",
   "name": "python",
   "nbconvert_exporter": "python",
   "pygments_lexer": "ipython3",
   "version": "3.6.12"
  }
 },
 "nbformat": 4,
 "nbformat_minor": 5
}
